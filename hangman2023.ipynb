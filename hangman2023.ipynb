{
  "nbformat": 4,
  "nbformat_minor": 0,
  "metadata": {
    "colab": {
      "provenance": []
    },
    "kernelspec": {
      "name": "python3",
      "display_name": "Python 3"
    },
    "language_info": {
      "name": "python"
    }
  },
  "cells": [
    {
      "cell_type": "code",
      "source": [
        "import random\n",
        "words = [\"abbba\",\"abbrdba\",\"abtbbba\",\"abbbazvrrt\",\"abbzvrfba\"]\n",
        "word = random.choice(words)\n",
        "W = [i for i in word]\n",
        "x = []\n",
        "for _ in range(len(W)):\n",
        "  x.append(\"*\")\n",
        "\n",
        "w2 = W\n",
        "cpt = 4\n",
        "while len(''.join(w2))!=0 and cpt!=0:\n",
        "  print(f\"> enter word : {' '.join(x)}\")\n",
        "  inp = input(\"> : \")\n",
        "\n",
        "  if inp in W:\n",
        "    if len(''.join(w2))==1:\n",
        "      print(\"you win !\")\n",
        "    x[w2.index(inp)] = inp\n",
        "    w2[w2.index(inp)] = \"\"\n",
        "  else:\n",
        "    if cpt==1:\n",
        "      print(f\"you lose! game over.. the word was ({''.join(W)})\")\n",
        "    cpt-=1\n",
        "\n",
        "  print(w2)\n"
      ],
      "metadata": {
        "id": "Vqq3DNK2MyM7"
      },
      "execution_count": 39,
      "outputs": []
    }
  ]
}